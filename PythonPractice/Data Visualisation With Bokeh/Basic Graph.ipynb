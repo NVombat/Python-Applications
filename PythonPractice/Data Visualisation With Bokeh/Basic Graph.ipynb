{
 "cells": [
  {
   "cell_type": "code",
   "execution_count": 20,
   "metadata": {},
   "outputs": [],
   "source": [
    "#Basic Line Graph\n",
    "#Import libraries\n",
    "from bokeh.plotting import figure\n",
    "from bokeh.io import output_file, show\n",
    "\n",
    "#Data to be plotted\n",
    "x = [1,2,3,4,5]\n",
    "y = [6,7,8,9,10]\n",
    "\n",
    "#Create the outpul file\n",
    "output_file(\"line.html\")\n",
    "\n",
    "#Create figure object\n",
    "fig = figure()\n",
    "\n",
    "#Create line plot\n",
    "fig.line(x,y)\n",
    "#fig.triangle(x,y)\n",
    "\n",
    "#Display object \n",
    "show(fig)\n",
    "#dir(fig) -> Shows the methods for that object"
   ]
  },
  {
   "cell_type": "code",
   "execution_count": 21,
   "metadata": {},
   "outputs": [],
   "source": [
    "#Basic Line Graph\n",
    "#Import libraries\n",
    "import pandas as pd\n",
    "\n",
    "#Data to be plotted using dataframes\n",
    "df1 = pd.read_csv(\"data.csv\")\n",
    "x = df1['x']\n",
    "y = df1['y']\n",
    "\n",
    "#Create the outpul file\n",
    "output_file(\"line_from_csv.html\")\n",
    "\n",
    "#Create figure object\n",
    "fig = figure()\n",
    "\n",
    "#Create line plot\n",
    "fig.line(x,y)\n",
    "#fig.triangle(x,y)\n",
    "#fig.circle(x,y)\n",
    "\n",
    "show(fig)"
   ]
  },
  {
   "cell_type": "code",
   "execution_count": 22,
   "metadata": {},
   "outputs": [],
   "source": [
    "#Data to be plotted\n",
    "df2 = pd.read_csv(\"http://pythonhow.com/data/bachelors.csv\")\n",
    "x = df2['Year']\n",
    "y = df2['Engineering']\n",
    "\n",
    "#Create the outpul file\n",
    "output_file(\"line_education.html\")\n",
    "\n",
    "#Create figure object\n",
    "fig = figure()\n",
    "\n",
    "#Create line plot\n",
    "fig.line(x,y)\n",
    "#fig.triangle(x,y)\n",
    "#fig.circle(x,y)\n",
    "\n",
    "show(fig)"
   ]
  },
  {
   "cell_type": "code",
   "execution_count": 23,
   "metadata": {},
   "outputs": [],
   "source": [
    "#Data to be plotted using excel file\n",
    "df3 = pd.read_excel(\"http://pythonhow.com/data/verlegenhuken.xlsx\", sheet_name=0)\n",
    "df3['Temperature'] = df3['Temperature']/10\n",
    "df3['Pressure'] = df3['Pressure']/10\n",
    "\n",
    "#Create the outpul file\n",
    "output_file(\"weather.html\")\n",
    "\n",
    "#Create figure object\n",
    "fig = figure()\n",
    "\n",
    "#Create line plot\n",
    "#fig.line(x,y)\n",
    "#fig.triangle(x,y)\n",
    "fig.circle(df3[\"Temperature\"],df3[\"Pressure\"],size=0.5, color='red')\n",
    "\n",
    "show(fig)"
   ]
  },
  {
   "cell_type": "code",
   "execution_count": 26,
   "metadata": {},
   "outputs": [],
   "source": [
    "#Read data into dataframe\n",
    "df4 = pd.read_csv(\"/home/nvombat/Desktop/Investment-WebApp/analysis/data/AAPL.csv\", parse_dates=['Date'])\n",
    "\n",
    "#Create figure object\n",
    "fig = figure(width=500, height=250, x_axis_type='datetime')\n",
    "\n",
    "fig.line(df4['Date'], df4['Close'], color='orange', alpha=0.5)\n",
    "\n",
    "output_file(\"timeseries.html\")\n",
    "\n",
    "show(fig)"
   ]
  },
  {
   "cell_type": "code",
   "execution_count": null,
   "metadata": {},
   "outputs": [],
   "source": []
  }
 ],
 "metadata": {
  "kernelspec": {
   "display_name": "Python 3",
   "language": "python",
   "name": "python3"
  },
  "language_info": {
   "codemirror_mode": {
    "name": "ipython",
    "version": 3
   },
   "file_extension": ".py",
   "mimetype": "text/x-python",
   "name": "python",
   "nbconvert_exporter": "python",
   "pygments_lexer": "ipython3",
   "version": "3.8.5"
  }
 },
 "nbformat": 4,
 "nbformat_minor": 4
}
