{
 "cells": [
  {
   "cell_type": "code",
   "execution_count": 7,
   "metadata": {},
   "outputs": [],
   "source": [
    "import folium\n",
    "\n",
    "mp = folium.Map(location=[28.572631,77.137191], zoom_start=25, tiles = \"Stamen Terrain\")\n",
    "\n",
    "fg = folium.FeatureGroup(name=\"MyMap\")\n",
    "fg.add_child(folium.Marker(location=[28.5603,77.1617], popup=\"Vasant Vihar\", icon=folium.Icon(color='green')))\n",
    "fg.add_child(folium.Marker(location=[28.5293,77.1484], popup=\"Vasant Kunj\", icon=folium.Icon(color='red')))\n",
    "\n",
    "mp.add_child(fg)\n",
    "\n",
    "mp.save(\"Map1.html\")"
   ]
  },
  {
   "cell_type": "code",
   "execution_count": null,
   "metadata": {},
   "outputs": [],
   "source": []
  }
 ],
 "metadata": {
  "kernelspec": {
   "display_name": "Python 3",
   "language": "python",
   "name": "python3"
  },
  "language_info": {
   "codemirror_mode": {
    "name": "ipython",
    "version": 3
   },
   "file_extension": ".py",
   "mimetype": "text/x-python",
   "name": "python",
   "nbconvert_exporter": "python",
   "pygments_lexer": "ipython3",
   "version": "3.8.5"
  }
 },
 "nbformat": 4,
 "nbformat_minor": 4
}
